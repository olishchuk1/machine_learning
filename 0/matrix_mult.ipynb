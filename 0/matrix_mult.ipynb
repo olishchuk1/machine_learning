{
 "cells": [
  {
   "cell_type": "code",
   "execution_count": 1,
   "metadata": {},
   "outputs": [],
   "source": [
    "import random\n",
    "import numpy as np\n",
    "import time"
   ]
  },
  {
   "cell_type": "code",
   "execution_count": 2,
   "metadata": {},
   "outputs": [],
   "source": [
    "def create_matrix(row, colomn):\n",
    "    m = []\n",
    "    for i in range(row):\n",
    "        m.append([random.randint(1, 10) for j in range(colomn)])\n",
    "    return m"
   ]
  },
  {
   "cell_type": "code",
   "execution_count": 3,
   "metadata": {},
   "outputs": [],
   "source": [
    "def matrix_mult(mtrx_1, mtrx_2):\n",
    "    if len(mtrx_2) != len(mtrx_1[0]):\n",
    "        return None\n",
    "    res_mtrx = []  # конечная матрица\n",
    "    for z in range(len(mtrx_1)):\n",
    "        t = []\n",
    "        for j in range(len(mtrx_2[0])):\n",
    "            s = sum([mtrx_1[z][i] * mtrx_2[i][j] for i in range(len(mtrx_1[0]))])\n",
    "            t.append(s)\n",
    "        res_mtrx.append(t)\n",
    "    return res_mtrx"
   ]
  },
  {
   "cell_type": "code",
   "execution_count": 4,
   "metadata": {},
   "outputs": [],
   "source": [
    "row = 1000\n",
    "colomn = 1000"
   ]
  },
  {
   "cell_type": "code",
   "execution_count": 5,
   "metadata": {},
   "outputs": [],
   "source": [
    "mtrx_1 = create_matrix(row, colomn)\n",
    "mtrx_np_1 = np.array(mtrx_1)"
   ]
  },
  {
   "cell_type": "code",
   "execution_count": 6,
   "metadata": {},
   "outputs": [],
   "source": [
    "mtrx_2 = create_matrix(row, colomn)\n",
    "mtrx_np_2 = np.array(mtrx_2)"
   ]
  },
  {
   "cell_type": "code",
   "execution_count": null,
   "metadata": {},
   "outputs": [],
   "source": [
    "start_time = time.time()\n",
    "res_mtrx = matrix_mult(mtrx_1, mtrx_2)\n",
    "print(\"--- %s seconds ---\" % (time.time() - start_time))"
   ]
  },
  {
   "cell_type": "code",
   "execution_count": null,
   "metadata": {},
   "outputs": [],
   "source": [
    "start_time_np = time.time()\n",
    "res_mtrx_np = mtrx_np_1.dot(mtrx_2)\n",
    "print(\"--- %s seconds ---\" % (time.time() - start_time_np))"
   ]
  }
 ],
 "metadata": {
  "kernelspec": {
   "display_name": "Python 3",
   "language": "python",
   "name": "python3"
  },
  "language_info": {
   "codemirror_mode": {
    "name": "ipython",
    "version": 3
   },
   "file_extension": ".py",
   "mimetype": "text/x-python",
   "name": "python",
   "nbconvert_exporter": "python",
   "pygments_lexer": "ipython3",
   "version": "3.8.5"
  }
 },
 "nbformat": 4,
 "nbformat_minor": 4
}