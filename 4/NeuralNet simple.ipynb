{
 "cells": [
  {
   "cell_type": "markdown",
   "metadata": {},
   "source": [
    "В цій практичній роботі ми спробуємо реалізувати нейронну мережу з двох шарів (прихований і вихідний). Запропонований підхід стане заготовкою для реалізації наступних оптимізацій: MBGD, ADAM та регуляризації. \n",
    "\n",
    "Сьогодні ж вам пропонується додати до цього класу підтримку довільної кількості шарів та нейронів в них (наприклад, передавати їх параметром в конструктор, як це робиться в MLPClassifier за допомогою hidden_layer_sizes). Також потрібно передбачити можливість ранньої зупинки ітераційного процесу, якщо значення штрафної функції не покращуватиметься протягом певної кількості ітерацій. Наприклад, якщо протягом $k$ ітерацій штрафна функція за модулем не стане меншою, ніж на поточному кроці."
   ]
  },
  {
   "cell_type": "code",
   "execution_count": 1,
   "metadata": {},
   "outputs": [],
   "source": [
    "import pandas as pd\n",
    "from sklearn.model_selection import train_test_split\n",
    "from mpl_toolkits.mplot3d import Axes3D\n",
    "import matplotlib.pyplot as plt\n",
    "\n",
    "from matplotlib.colors import ListedColormap\n",
    "cm_bright = ListedColormap(['#FF0000', '#0000FF'])\n",
    "%matplotlib inline\n",
    "from sklearn.metrics import accuracy_score\n",
    "import numpy as np\n",
    "import sklearn.linear_model"
   ]
  },
  {
   "cell_type": "code",
   "execution_count": 2,
   "metadata": {},
   "outputs": [],
   "source": [
    "def plot_surface(cls, x_1, x_2, ax=None, threshold=0.5, contourf=False):\n",
    "    xx1, xx2 = np.meshgrid(np.linspace(x_1.min(), x_1.max(), 100), \n",
    "                           np.linspace(x_2.min(), x_2.max(), 100))\n",
    "\n",
    "    X_pred = np.c_[xx1.ravel(), xx2.ravel()]\n",
    "    pred = cls.predict_proba(X_pred)[:, 0]\n",
    "    Z = pred.reshape((100, 100))\n",
    "    if ax is None:\n",
    "        ax = plt.gca()\n",
    "    ax.contour(xx1, xx2, Z, levels=[threshold], colors='black')\n",
    "    ax.set_xlim((x_1.min(), x_1.max()))"
   ]
  },
  {
   "cell_type": "code",
   "execution_count": 3,
   "metadata": {},
   "outputs": [],
   "source": [
    "def plot_data(X, y):\n",
    "    ax = plt.gca()\n",
    "    ax.scatter(X[:,0], X[:,1], c=(y == 1), cmap=cm_bright)"
   ]
  },
  {
   "cell_type": "code",
   "execution_count": 4,
   "metadata": {},
   "outputs": [],
   "source": [
    "class NeuralNet:\n",
    "    \"\"\"\n",
    "    NN for binary classification\n",
    "    Attributes:\n",
    "    ...\n",
    "    \"\"\"\n",
    "    def __init__(self, accuracy, hidden_layer_sizes, normalize = True, learning_rate = 0.01, num_iter = 30000):\n",
    "        self.learning_rate = learning_rate\n",
    "        self.num_iter = num_iter\n",
    "        self.normalize = normalize\n",
    "        self.accuracy = accuracy\n",
    "        self.hidden_layer_sizes = hidden_layer_sizes\n",
    "        self.n_layers = len(hidden_layer_sizes) + 1\n",
    "    \n",
    "    def __normalize(self, X, mean = None, std = None):\n",
    "        \"\"\"\n",
    "        Зверніть увагу, що нормалізація вхідних даних є дуже важливою для швидкодії нейронних мереж.\n",
    "        \"\"\"\n",
    "        n = X.shape[0]\n",
    "        m = mean\n",
    "        if m is None:\n",
    "            m = np.mean(X, axis=1).reshape((n, 1))\n",
    "        s = std\n",
    "        if s is None:\n",
    "            s = np.std(X, axis=1).reshape((n, 1))\n",
    "        X_new = (X - m) / s**2\n",
    "        return X_new, m, s\n",
    "\n",
    "    def __sigmoid(self, Z):\n",
    "        \"\"\"\n",
    "        В наступних практичних потрібно буде додати підтримку й інших активаційних функцій - це один з гіперпараметрів. \n",
    "        Їх можна вибирати для всіх шарів одночасно або мати різні активаційні функції на кожному з них.\n",
    "        \"\"\"\n",
    "        return 1 / (1 + np.exp(-Z))\n",
    "    \n",
    "    def __initialize_parameters(self, n_x):\n",
    "        W = list()\n",
    "        b = list()\n",
    "        \n",
    "        h = list(self.hidden_layer_sizes)\n",
    "        h.insert(0, n_x)\n",
    "        h.append(1)\n",
    "        hidden_layers = tuple(h)\n",
    "        \n",
    "        for i in range(1, self.n_layers+1):\n",
    "            W.append(np.random.randn(hidden_layers[i], hidden_layers[i-1]) * 0.01)\n",
    "            b.append(np.zeros((hidden_layers[i], 1)))\n",
    "\n",
    "        self.parameters = {\"W\" : W, \"b\" : b}\n",
    "                    \n",
    "    def __forward_propagation(self, X):\n",
    "        W = self.parameters[\"W\"]\n",
    "        b = self.parameters[\"b\"]\n",
    "\n",
    "        A = []\n",
    "        Z = []\n",
    "        \n",
    "        for i in range(0, self.n_layers):\n",
    "            if i == 0:\n",
    "                Z.append(np.dot(W[i], X) + b[i])\n",
    "            else:\n",
    "                Z.append(np.dot(W[i], A[i-1]) + b[i])\n",
    "            A.append(self.__sigmoid(Z[i]))\n",
    "                       \n",
    "        cache = (W, b, Z, A)\n",
    "\n",
    "        return A[-1], cache\n",
    "    \n",
    "    def compute_cost(self, A, Y):\n",
    "        m = Y.shape[1]\n",
    "        res = Y * np.log(A) + (1 - Y) * np.log(1 - A)\n",
    "        J = -(1 / m) * np.sum(res)\n",
    "        return J\n",
    "        \n",
    "    def __backward_propagation(self, X, Y, cache):\n",
    "        m = X.shape[1]\n",
    "        n = X.shape[0]\n",
    "        (W, b, Z, A) = cache\n",
    "        \n",
    "        dW = [None] * (self.n_layers)\n",
    "        dA = [None] * (self.n_layers)\n",
    "        dZ = [None] * (self.n_layers)\n",
    "        db = [None] * (self.n_layers)\n",
    "        \n",
    "        dZ[-1] = (A[-1] - Y)\n",
    "        dW[-1] = (1. / m * np.dot(dZ[-1], A[-2].T))\n",
    "        db[-1] = (1. / m * np.sum(dZ[-1], axis = 1, keepdims = True))\n",
    "        \n",
    "        for i in range(self.n_layers-1, 0, -1):\n",
    "            dA[i-1] = np.dot(W[i].T, dZ[i])\n",
    "            dZ[i-1] = np.multiply(dA[i-1], np.multiply(A[i-1], 1 - A[i-1]))\n",
    "            if i-1 == 0:\n",
    "                dW[i-1] = 1. / m * np.dot(dZ[i-1], X.T)\n",
    "            else:\n",
    "                dW[i-1] = 1. / m * np.dot(dZ[i-1], A[i-2].T)\n",
    "            db[i-1] = 1. / m * np.sum(dZ[i-1], axis = 1, keepdims = True)        \n",
    "        \n",
    "        grads = {\"dZ\" : dZ, \"dW\" : dW, \"db\" : db}\n",
    "        return grads\n",
    "    \n",
    "    def __update_parameters(self, grads):\n",
    "        W = self.parameters[\"W\"]\n",
    "        b = self.parameters[\"b\"]\n",
    "\n",
    "        dW = grads[\"dW\"]\n",
    "        db = grads[\"db\"]\n",
    "        \n",
    "        for i in range(self.n_layers):\n",
    "            W[i] = W[i] - self.learning_rate * dW[i]\n",
    "            b[i] = b[i] - self.learning_rate * db[i]\n",
    "\n",
    "        \n",
    "    def fit(self, X_vert, Y_vert, print_cost = True):\n",
    "        self.n_iter = 0\n",
    "        X, Y = X_vert.T, Y_vert.T\n",
    "        \n",
    "        if self.normalize:\n",
    "            X, self.__mean, self.__std = self.__normalize(X)\n",
    "        \n",
    "        costs = []\n",
    "        \n",
    "        m = X.shape[1]\n",
    "        n_x = X.shape[0]\n",
    "        \n",
    "        self.__initialize_parameters(n_x)\n",
    "\n",
    "        for i in range(self.num_iter):\n",
    "            self.n_iter = i\n",
    "            A, cache = self.__forward_propagation(X)\n",
    "\n",
    "            cost = self.compute_cost(A, Y)\n",
    "            costs.append(cost)\n",
    "\n",
    "            grads = self.__backward_propagation(X, Y, cache)\n",
    "\n",
    "            self.__update_parameters(grads)\n",
    "            \n",
    "            if print_cost and i % 1000 == 0:\n",
    "                print(\"{}-th iteration: {}\".format(i, cost))\n",
    "                \n",
    "            if i > 1 and abs(cost-costs[-2]) < self.accuracy:\n",
    "                break\n",
    "\n",
    "        if print_cost:\n",
    "            plt.plot(costs)\n",
    "            plt.ylabel(\"Cost\")\n",
    "            plt.xlabel(\"Iteration, *1000\")\n",
    "            plt.show()\n",
    "    \n",
    "    def predict_proba(self, X_vert):\n",
    "        X = X_vert.T\n",
    "        if self.normalize:\n",
    "            X, _, _ = self.__normalize(X, self.__mean, self.__std)\n",
    "        \n",
    "        probs = self.__forward_propagation(X)[0]\n",
    "        \n",
    "        return np.column_stack((probs.T, 1 - probs.T))\n",
    "    \n",
    "    def predict(self, X_vert):\n",
    "        positive_probs = self.predict_proba(X_vert)[:, 0]\n",
    "        return (positive_probs >= 0.5).astype(int)"
   ]
  },
  {
   "cell_type": "markdown",
   "metadata": {},
   "source": [
    "Спочатку спробуйте цей клас на одній задачі, а потім на іншій."
   ]
  },
  {
   "cell_type": "code",
   "execution_count": 5,
   "metadata": {},
   "outputs": [],
   "source": [
    "#data_columns = [\"exam1\", \"exam2\"]\n",
    "#target_column = \"submitted\"\n",
    "#df = pd.read_csv(\"sats.csv\")\n",
    "#X, Y = df[data_columns].values, df[target_column].reshape((df.shape[0], 1))\n",
    "#print('Training set: X={}, y={}'.format(X.shape, Y.shape))"
   ]
  },
  {
   "cell_type": "code",
   "execution_count": 6,
   "metadata": {},
   "outputs": [
    {
     "name": "stdout",
     "output_type": "stream",
     "text": [
      "Training set: X=(118, 2), y=(118,)\n"
     ]
    }
   ],
   "source": [
    "data_columns = [\"test1\", \"test2\"]\n",
    "target_column = \"passed\"\n",
    "df = pd.read_csv(\"tests.csv\")\n",
    "X, Y = df[data_columns].values, df[target_column]\n",
    "print('Training set: X={}, y={}'.format(X.shape, Y.shape))"
   ]
  },
  {
   "cell_type": "code",
   "execution_count": 7,
   "metadata": {},
   "outputs": [
    {
     "data": {
      "image/png": "[encoded data removed]",
      "text/plain": [
       "<Figure size 432x288 with 1 Axes>"
      ]
     },
     "metadata": {
      "needs_background": "light"
     },
     "output_type": "display_data"
    }
   ],
   "source": [
    "plot_data(X, Y)"
   ]
  },
  {
   "cell_type": "code",
   "execution_count": 8,
   "metadata": {},
   "outputs": [],
   "source": [
    "cls = NeuralNet(\n",
    "    accuracy=1e-12,\n",
    "    hidden_layer_sizes=(20,15), \n",
    "    normalize = True, \n",
    "    learning_rate = 0.52, \n",
    "    num_iter = 14001)"
   ]
  },
  {
   "cell_type": "code",
   "execution_count": 9,
   "metadata": {},
   "outputs": [
    {
     "name": "stdout",
     "output_type": "stream",
     "text": [
      "0-th iteration: 0.6931959191862743\n",
      "1000-th iteration: 0.6930034523692494\n",
      "2000-th iteration: 0.6930033344658871\n",
      "3000-th iteration: 0.6930031831831938\n",
      "4000-th iteration: 0.6930029642521256\n",
      "5000-th iteration: 0.6930026138219131\n",
      "6000-th iteration: 0.6930019957120607\n",
      "7000-th iteration: 0.6930007764875444\n",
      "8000-th iteration: 0.692997983498583\n",
      "9000-th iteration: 0.6929899575354594\n",
      "10000-th iteration: 0.6929557037696051\n",
      "11000-th iteration: 0.6926164689717289\n",
      "12000-th iteration: 0.6868270062673958\n",
      "13000-th iteration: 0.6029764898645303\n",
      "14000-th iteration: 0.5682008200869176\n"
     ]
    },
    {
     "data": {
      "image/png": "[encoded data removed]",
      "text/plain": [
       "<Figure size 432x288 with 1 Axes>"
      ]
     },
     "metadata": {
      "needs_background": "light"
     },
     "output_type": "display_data"
    }
   ],
   "source": [
    "cls.fit(X, Y.values.reshape((df.shape[0], 1)))"
   ]
  },
  {
   "cell_type": "code",
   "execution_count": 10,
   "metadata": {},
   "outputs": [
    {
     "name": "stdout",
     "output_type": "stream",
     "text": [
      "{'W': [array([[ 0.41348121,  0.42642119],\n",
      "       [ 0.40341274,  0.43911745],\n",
      "       [-0.35603824, -0.35636318],\n",
      "       [ 0.40901009,  0.43846672],\n",
      "       [ 0.41694017,  0.42771297],\n",
      "       [-0.446671  , -0.43064043],\n",
      "       [-0.36377501, -0.36214405],\n",
      "       [-0.36280564, -0.36068782],\n",
      "       [-0.360885  , -0.35961525],\n",
      "       [-0.40539072, -0.40103949],\n",
      "       [ 0.03022146,  0.00719614],\n",
      "       [-0.37137896, -0.37055558],\n",
      "       [-0.36557132, -0.36540279],\n",
      "       [ 0.38957788,  0.4390698 ],\n",
      "       [-0.29944026, -0.32065852],\n",
      "       [ 0.40107534,  0.43974616],\n",
      "       [ 0.32989111,  0.34839746],\n",
      "       [-0.60696053, -0.54031246],\n",
      "       [-0.36959462, -0.36931741],\n",
      "       [-1.10573873, -0.8149084 ]]), array([[ 5.12450146e-01,  4.21235089e-01, -5.53906666e-01,\n",
      "         4.62837602e-01,  5.08663476e-01, -1.23824719e+00,\n",
      "        -9.95590898e-01, -7.66027416e-01, -9.23988470e-01,\n",
      "        -1.20098121e+00, -1.52186024e-01, -1.08126926e+00,\n",
      "        -1.04845425e+00,  3.16486611e-01, -3.28151341e-01,\n",
      "         3.97466600e-01,  1.04250301e+00, -1.37325276e+00,\n",
      "        -1.06093809e+00, -1.72298739e+00],\n",
      "       [ 5.89736079e-02,  6.64923275e-02, -5.18286003e-02,\n",
      "         5.20229589e-02,  5.07430160e-02, -6.29662958e-02,\n",
      "        -7.17679693e-02, -5.98443584e-02, -5.42150652e-02,\n",
      "        -5.09023830e-02, -3.16278776e-03, -6.71718793e-02,\n",
      "        -4.71229743e-02,  3.52636317e-02, -3.57883575e-02,\n",
      "         4.41939164e-02,  4.77653233e-02, -4.94628418e-02,\n",
      "        -6.05730827e-02, -4.85466522e-02],\n",
      "       [-5.21140105e-01, -5.41960691e-01,  1.96228209e-01,\n",
      "        -5.34425939e-01, -5.23098935e-01,  5.81503791e-02,\n",
      "         1.52045177e-01,  1.79065450e-01,  1.61949009e-01,\n",
      "         9.64697615e-02, -7.25343996e-02,  1.30264375e-01,\n",
      "         1.31640707e-01, -4.96547604e-01,  1.15888139e-01,\n",
      "        -5.13794718e-01, -4.57034130e-01, -1.27246025e-02,\n",
      "         1.16519643e-01, -1.50148705e-01],\n",
      "       [ 1.10360772e+00,  1.08977467e+00, -4.42535787e-01,\n",
      "         1.09978307e+00,  1.11543731e+00, -2.01638386e-01,\n",
      "        -4.01273238e-01, -4.55996621e-01, -4.16188741e-01,\n",
      "        -2.57690461e-01,  1.50202269e-01, -3.74628633e-01,\n",
      "        -3.85003740e-01,  1.04174027e+00, -3.04600357e-01,\n",
      "         1.07807637e+00,  8.38944942e-01, -2.84583915e-02,\n",
      "        -3.48171095e-01,  3.49666105e-01],\n",
      "       [ 1.73189112e-01,  1.76247437e-01, -1.23716172e-01,\n",
      "         1.81162127e-01,  1.81061319e-01, -3.41674269e-02,\n",
      "        -1.00044265e-01, -1.24101326e-01, -1.16295080e-01,\n",
      "        -9.00676138e-02, -1.76700065e-02, -1.16633377e-01,\n",
      "        -1.06903945e-01,  1.57488365e-01, -8.90001257e-02,\n",
      "         1.72249881e-01,  1.03794946e-01,  1.58297719e-03,\n",
      "        -1.04263262e-01,  1.38985958e-01],\n",
      "       [ 3.19867557e-01,  2.76065636e-01, -2.73737732e-01,\n",
      "         2.85877103e-01,  3.30818341e-01, -5.68251044e-01,\n",
      "        -4.46051241e-01, -3.33927307e-01, -4.03970152e-01,\n",
      "        -5.12893822e-01, -3.71943345e-02, -4.64148333e-01,\n",
      "        -4.51609743e-01,  2.56858915e-01, -1.40007103e-01,\n",
      "         2.74633873e-01,  5.56913828e-01, -6.34858369e-01,\n",
      "        -4.50971176e-01, -8.55272078e-01],\n",
      "       [ 8.75973984e-03, -1.66851287e-04,  3.53054241e-02,\n",
      "         1.74248552e-02,  1.26527186e-02, -4.12019105e-03,\n",
      "         2.68893263e-02,  3.64041243e-02,  3.05975052e-02,\n",
      "        -3.15140541e-03,  2.28758766e-02,  8.41075136e-03,\n",
      "         2.54415295e-02,  6.10333579e-05,  2.92690322e-02,\n",
      "        -2.23546631e-03,  2.42290840e-02, -2.68728101e-02,\n",
      "         2.41336089e-02, -3.37074925e-02],\n",
      "       [ 2.34409382e-01,  2.23176990e-01, -1.24688847e-01,\n",
      "         2.43385991e-01,  2.53799809e-01, -3.93977602e-02,\n",
      "        -1.07090117e-01, -1.41252827e-01, -1.38797082e-01,\n",
      "        -5.60396001e-02,  1.21103066e-03, -8.59235544e-02,\n",
      "        -1.22833114e-01,  1.94759170e-01, -8.63813251e-02,\n",
      "         2.20421083e-01,  1.52302384e-01,  1.34239363e-02,\n",
      "        -1.05188655e-01,  1.21499272e-01],\n",
      "       [ 1.07851768e-02,  2.56641298e-02, -7.90727055e-03,\n",
      "         1.45681783e-02,  1.55744353e-02, -1.06229302e-02,\n",
      "        -1.03841213e-02, -1.10205039e-02, -1.12681629e-02,\n",
      "        -9.63890417e-03,  7.55776045e-03, -4.84577091e-03,\n",
      "         9.62759664e-03,  1.18337320e-02,  5.96635949e-03,\n",
      "         2.57654636e-02,  3.78716564e-02, -2.59910180e-02,\n",
      "        -4.01081266e-03, -6.14811668e-02],\n",
      "       [-6.77479781e-02, -6.03021889e-02,  1.11092321e-01,\n",
      "        -9.46525654e-02, -8.00127041e-02,  4.79379274e-02,\n",
      "         1.06993323e-01,  1.04268261e-01,  8.20056626e-02,\n",
      "         5.77386569e-02,  5.23301216e-02,  8.73989765e-02,\n",
      "         8.56969687e-02, -6.08225948e-02,  9.62186490e-02,\n",
      "        -7.88205225e-02,  6.23659523e-03, -1.51762537e-02,\n",
      "         9.00559997e-02, -1.34995411e-01],\n",
      "       [ 6.49854025e-02,  6.62896663e-02, -5.84669419e-02,\n",
      "         6.26286173e-02,  6.05597022e-02, -3.96264245e-02,\n",
      "        -5.85861108e-02, -6.11323658e-02, -5.83816464e-02,\n",
      "        -4.31702681e-02, -1.23069465e-02, -4.50819674e-02,\n",
      "        -3.65741624e-02,  5.29099763e-02, -3.59159231e-02,\n",
      "         5.06573298e-02,  3.16806596e-02,  3.39611879e-03,\n",
      "        -4.53570777e-02,  9.83319961e-02],\n",
      "       [-2.22667255e-01, -2.30923675e-01,  1.55736297e-01,\n",
      "        -2.23875532e-01, -2.19947284e-01,  2.47585559e-02,\n",
      "         1.08078121e-01,  1.33748463e-01,  1.31721593e-01,\n",
      "         4.62248013e-02,  3.70403431e-02,  8.02276027e-02,\n",
      "         1.04175462e-01, -1.80431877e-01,  1.17550627e-01,\n",
      "        -2.09207780e-01, -1.28321226e-01, -4.62842054e-02,\n",
      "         9.11465423e-02, -2.36108105e-01],\n",
      "       [ 4.77448796e-01,  4.52689681e-01, -1.89946602e-01,\n",
      "         5.05710071e-01,  4.86508104e-01, -6.93981734e-02,\n",
      "        -1.69662864e-01, -1.93837725e-01, -1.88284452e-01,\n",
      "        -8.62298098e-02,  5.93609919e-02, -1.27937285e-01,\n",
      "        -1.57486048e-01,  4.43082921e-01, -1.16755785e-01,\n",
      "         4.87082997e-01,  3.32949046e-01,  6.06908913e-02,\n",
      "        -1.54593591e-01,  2.66670515e-01],\n",
      "       [ 3.08066248e-01,  3.15829778e-01, -1.27978103e-01,\n",
      "         3.08102248e-01,  2.95134274e-01, -3.51290170e-02,\n",
      "        -1.18890904e-01, -1.45198653e-01, -1.27224955e-01,\n",
      "        -6.71994409e-02,  3.38439031e-02, -1.09532688e-01,\n",
      "        -1.12281592e-01,  2.84028561e-01, -9.53910471e-02,\n",
      "         3.12029416e-01,  2.26888035e-01,  2.00030105e-02,\n",
      "        -1.08268659e-01,  1.54703467e-01],\n",
      "       [-1.51907522e-01, -1.24098797e-01,  1.55667169e-01,\n",
      "        -1.38671387e-01, -1.47467266e-01,  2.91389085e-02,\n",
      "         1.06314456e-01,  1.28037735e-01,  1.22261114e-01,\n",
      "         5.98356169e-02,  4.29716121e-02,  9.47255936e-02,\n",
      "         9.42456603e-02, -1.19805124e-01,  1.09151942e-01,\n",
      "        -1.18720467e-01, -4.55236301e-02, -3.79767662e-02,\n",
      "         8.48878048e-02, -1.85631162e-01]]), array([[-4.23507204, -0.09219189, -1.62261741,  2.34082714,  0.2715383 ,\n",
      "        -1.54033267, -0.36671455,  0.41762862, -0.27583443, -0.72687763,\n",
      "        -0.10882821, -1.08025352,  0.92423879,  0.56774313, -0.92547033]])], 'b': [array([[ 0.54679491],\n",
      "       [ 0.54904173],\n",
      "       [-0.21113169],\n",
      "       [ 0.57039858],\n",
      "       [ 0.55904029],\n",
      "       [ 0.31975014],\n",
      "       [-0.02394115],\n",
      "       [-0.17390459],\n",
      "       [-0.08454402],\n",
      "       [ 0.22848192],\n",
      "       [ 0.01716128],\n",
      "       [ 0.05602318],\n",
      "       [ 0.018303  ],\n",
      "       [ 0.49609141],\n",
      "       [-0.098376  ],\n",
      "       [ 0.54251968],\n",
      "       [-0.03416161],\n",
      "       [ 0.55595224],\n",
      "       [ 0.05239993],\n",
      "       [ 0.97989857]]), array([[-0.31219783],\n",
      "       [-0.00653748],\n",
      "       [-0.26672621],\n",
      "       [ 0.56317576],\n",
      "       [ 0.03412317],\n",
      "       [-0.06015972],\n",
      "       [ 0.0310865 ],\n",
      "       [ 0.08248634],\n",
      "       [ 0.01625546],\n",
      "       [ 0.04550586],\n",
      "       [ 0.0239573 ],\n",
      "       [-0.04893662],\n",
      "       [ 0.24998151],\n",
      "       [ 0.14361589],\n",
      "       [ 0.00906453]]), array([[-0.7290164]])]}\n"
     ]
    }
   ],
   "source": [
    "print(cls.parameters)"
   ]
  },
  {
   "cell_type": "code",
   "execution_count": 11,
   "metadata": {},
   "outputs": [
    {
     "data": {
      "text/plain": [
       "array([[0.68300879, 0.31699121],\n",
       "       [0.42577021, 0.57422979],\n",
       "       [0.41863267, 0.58136733],\n",
       "       [0.54392041, 0.45607959],\n",
       "       [0.19490224, 0.80509776],\n",
       "       [0.52143994, 0.47856006],\n",
       "       [0.16767148, 0.83232852],\n",
       "       [0.72976589, 0.27023411],\n",
       "       [0.65199575, 0.34800425],\n",
       "       [0.5741203 , 0.4258797 ],\n",
       "       [0.67182966, 0.32817034],\n",
       "       [0.29104493, 0.70895507],\n",
       "       [0.20019481, 0.79980519],\n",
       "       [0.40111572, 0.59888428],\n",
       "       [0.47860278, 0.52139722],\n",
       "       [0.65154929, 0.34845071],\n",
       "       [0.55203803, 0.44796197],\n",
       "       [0.72616748, 0.27383252],\n",
       "       [0.5006813 , 0.4993187 ],\n",
       "       [0.43474535, 0.56525465],\n",
       "       [0.76136263, 0.23863737],\n",
       "       [0.5079184 , 0.4920816 ],\n",
       "       [0.54018557, 0.45981443],\n",
       "       [0.39551028, 0.60448972],\n",
       "       [0.70373104, 0.29626896],\n",
       "       [0.72808487, 0.27191513],\n",
       "       [0.26673092, 0.73326908],\n",
       "       [0.76715863, 0.23284137],\n",
       "       [0.47137376, 0.52862624],\n",
       "       [0.63498918, 0.36501082],\n",
       "       [0.65288757, 0.34711243],\n",
       "       [0.63679087, 0.36320913],\n",
       "       [0.32851972, 0.67148028],\n",
       "       [0.60391206, 0.39608794],\n",
       "       [0.06941563, 0.93058437],\n",
       "       [0.77059538, 0.22940462],\n",
       "       [0.30248807, 0.69751193],\n",
       "       [0.54175944, 0.45824056],\n",
       "       [0.76197021, 0.23802979],\n",
       "       [0.09619638, 0.90380362],\n",
       "       [0.2297172 , 0.7702828 ],\n",
       "       [0.3950701 , 0.6049299 ],\n",
       "       [0.17520462, 0.82479538],\n",
       "       [0.75090042, 0.24909958],\n",
       "       [0.10960951, 0.89039049],\n",
       "       [0.74346252, 0.25653748],\n",
       "       [0.19456462, 0.80543538],\n",
       "       [0.07122271, 0.92877729],\n",
       "       [0.1010828 , 0.8989172 ],\n",
       "       [0.37477909, 0.62522091],\n",
       "       [0.64207992, 0.35792008],\n",
       "       [0.68415172, 0.31584828],\n",
       "       [0.68925889, 0.31074111],\n",
       "       [0.10012574, 0.89987426],\n",
       "       [0.32333281, 0.67666719],\n",
       "       [0.7779514 , 0.2220486 ],\n",
       "       [0.12565149, 0.87434851],\n",
       "       [0.2480267 , 0.7519733 ],\n",
       "       [0.61081365, 0.38918635],\n",
       "       [0.71698063, 0.28301937],\n",
       "       [0.70635236, 0.29364764],\n",
       "       [0.65367836, 0.34632164],\n",
       "       [0.37150091, 0.62849909],\n",
       "       [0.1458058 , 0.8541942 ],\n",
       "       [0.5939246 , 0.4060754 ],\n",
       "       [0.63969838, 0.36030162],\n",
       "       [0.12832623, 0.87167377],\n",
       "       [0.2793356 , 0.7206644 ],\n",
       "       [0.68025663, 0.31974337],\n",
       "       [0.0989106 , 0.9010894 ],\n",
       "       [0.76392428, 0.23607572],\n",
       "       [0.71629575, 0.28370425],\n",
       "       [0.74351453, 0.25648547],\n",
       "       [0.69755617, 0.30244383],\n",
       "       [0.50746218, 0.49253782],\n",
       "       [0.74671489, 0.25328511],\n",
       "       [0.66657818, 0.33342182],\n",
       "       [0.76858338, 0.23141662],\n",
       "       [0.72795646, 0.27204354],\n",
       "       [0.44523751, 0.55476249],\n",
       "       [0.1216053 , 0.8783947 ],\n",
       "       [0.76673768, 0.23326232],\n",
       "       [0.69647021, 0.30352979],\n",
       "       [0.49521666, 0.50478334],\n",
       "       [0.50081986, 0.49918014],\n",
       "       [0.66645036, 0.33354964],\n",
       "       [0.31680662, 0.68319338],\n",
       "       [0.77429611, 0.22570389],\n",
       "       [0.74983176, 0.25016824],\n",
       "       [0.12667412, 0.87332588],\n",
       "       [0.3320177 , 0.6679823 ],\n",
       "       [0.59890871, 0.40109129],\n",
       "       [0.72357965, 0.27642035],\n",
       "       [0.26774484, 0.73225516],\n",
       "       [0.13947157, 0.86052843],\n",
       "       [0.29072848, 0.70927152],\n",
       "       [0.75741733, 0.24258267],\n",
       "       [0.20689508, 0.79310492],\n",
       "       [0.17353463, 0.82646537],\n",
       "       [0.40611367, 0.59388633],\n",
       "       [0.73715078, 0.26284922],\n",
       "       [0.72343093, 0.27656907],\n",
       "       [0.41494749, 0.58505251],\n",
       "       [0.14462719, 0.85537281],\n",
       "       [0.19252821, 0.80747179],\n",
       "       [0.76551501, 0.23448499],\n",
       "       [0.70131501, 0.29868499],\n",
       "       [0.40021871, 0.59978129],\n",
       "       [0.49613913, 0.50386087],\n",
       "       [0.61125495, 0.38874505],\n",
       "       [0.72525706, 0.27474294],\n",
       "       [0.68950084, 0.31049916],\n",
       "       [0.45632641, 0.54367359],\n",
       "       [0.75490452, 0.24509548],\n",
       "       [0.34729367, 0.65270633],\n",
       "       [0.442447  , 0.557553  ],\n",
       "       [0.26240587, 0.73759413],\n",
       "       [0.62152032, 0.37847968]])"
      ]
     },
     "execution_count": 11,
     "metadata": {},
     "output_type": "execute_result"
    }
   ],
   "source": [
    "Y_prob = cls.predict_proba(X)\n",
    "Y_prob"
   ]
  },
  {
   "cell_type": "code",
   "execution_count": 12,
   "metadata": {},
   "outputs": [
    {
     "data": {
      "text/plain": [
       "array([1, 0, 0, 1, 0, 1, 0, 1, 1, 1, 1, 0, 0, 0, 0, 1, 1, 1, 1, 0, 1, 1,\n",
       "       1, 0, 1, 1, 0, 1, 0, 1, 1, 1, 0, 1, 0, 1, 0, 1, 1, 0, 0, 0, 0, 1,\n",
       "       0, 1, 0, 0, 0, 0, 1, 1, 1, 0, 0, 1, 0, 0, 1, 1, 1, 1, 0, 0, 1, 1,\n",
       "       0, 0, 1, 0, 1, 1, 1, 1, 1, 1, 1, 1, 1, 0, 0, 1, 1, 0, 1, 1, 0, 1,\n",
       "       1, 0, 0, 1, 1, 0, 0, 0, 1, 0, 0, 0, 1, 1, 0, 0, 0, 1, 1, 0, 0, 1,\n",
       "       1, 1, 0, 1, 0, 0, 0, 1])"
      ]
     },
     "execution_count": 12,
     "metadata": {},
     "output_type": "execute_result"
    }
   ],
   "source": [
    "Y_hat = cls.predict(X)\n",
    "Y_hat"
   ]
  },
  {
   "cell_type": "code",
   "execution_count": 13,
   "metadata": {},
   "outputs": [
    {
     "data": {
      "text/plain": [
       "0.711864406779661"
      ]
     },
     "execution_count": 13,
     "metadata": {},
     "output_type": "execute_result"
    }
   ],
   "source": [
    "accuracy_score(Y, Y_hat)"
   ]
  },
  {
   "cell_type": "code",
   "execution_count": 14,
   "metadata": {},
   "outputs": [
    {
     "data": {
      "image/png": "[encoded data removed]",
      "text/plain": [
       "<Figure size 432x288 with 1 Axes>"
      ]
     },
     "metadata": {
      "needs_background": "light"
     },
     "output_type": "display_data"
    }
   ],
   "source": [
    "plot_data(X, Y)\n",
    "plot_surface(cls, X[:, 0], X[:, 1])"
   ]
  },
  {
   "cell_type": "markdown",
   "metadata": {},
   "source": [
    "Зверніть увагу на границю прийняття рішення. Модель старається побудувати складну криву, що може свідчити про її перетренування. Порівняйте отримані результати з класом з sklearn. Спробуйте додати нові шари для нашого класу та порівняти результати тоді. Поекспериментуйте з гіперпараметрами для обох класів."
   ]
  },
  {
   "cell_type": "code",
   "execution_count": 15,
   "metadata": {},
   "outputs": [],
   "source": [
    "from sklearn.neural_network import MLPClassifier\n",
    "clf = MLPClassifier(hidden_layer_sizes = (5,10,), max_iter = 10000, activation = 'relu', solver = 'sgd', learning_rate_init = 0.01, learning_rate = 'constant')"
   ]
  },
  {
   "cell_type": "code",
   "execution_count": 16,
   "metadata": {},
   "outputs": [
    {
     "data": {
      "text/plain": [
       "MLPClassifier(hidden_layer_sizes=(5, 10), learning_rate_init=0.01,\n",
       "              max_iter=10000, solver='sgd')"
      ]
     },
     "execution_count": 16,
     "metadata": {},
     "output_type": "execute_result"
    }
   ],
   "source": [
    "clf.fit(X, Y)"
   ]
  },
  {
   "cell_type": "code",
   "execution_count": 17,
   "metadata": {},
   "outputs": [
    {
     "data": {
      "image/png": "[encoded data removed]",
      "text/plain": [
       "<Figure size 432x288 with 1 Axes>"
      ]
     },
     "metadata": {
      "needs_background": "light"
     },
     "output_type": "display_data"
    }
   ],
   "source": [
    "plot_data(X, Y)\n",
    "plot_surface(clf, X[:, 0], X[:, 1])"
   ]
  },
  {
   "cell_type": "code",
   "execution_count": 18,
   "metadata": {},
   "outputs": [
    {
     "data": {
      "text/plain": [
       "0.8559322033898306"
      ]
     },
     "execution_count": 18,
     "metadata": {},
     "output_type": "execute_result"
    }
   ],
   "source": [
    "accuracy_score(Y, clf.predict(X))"
   ]
  },
  {
   "cell_type": "code",
   "execution_count": 19,
   "metadata": {},
   "outputs": [
    {
     "data": {
      "text/plain": [
       "1080"
      ]
     },
     "execution_count": 19,
     "metadata": {},
     "output_type": "execute_result"
    }
   ],
   "source": [
    "clf.n_iter_"
   ]
  },
  {
   "cell_type": "code",
   "execution_count": null,
   "metadata": {},
   "outputs": [],
   "source": []
  }
 ],
 "metadata": {
  "anaconda-cloud": {},
  "kernelspec": {
   "display_name": "Python 3",
   "language": "python",
   "name": "python3"
  },
  "language_info": {
   "codemirror_mode": {
    "name": "ipython",
    "version": 3
   },
   "file_extension": ".py",
   "mimetype": "text/x-python",
   "name": "python",
   "nbconvert_exporter": "python",
   "pygments_lexer": "ipython3",
   "version": "3.8.3"
  }
 },
 "nbformat": 4,
 "nbformat_minor": 1
}
