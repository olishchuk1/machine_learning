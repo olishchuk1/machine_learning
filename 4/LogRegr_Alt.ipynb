{
 "cells": [
  {
   "cell_type": "code",
   "execution_count": 1,
   "metadata": {},
   "outputs": [],
   "source": [
    "import numpy as np\n",
    "import pandas as pd\n",
    "from sklearn.model_selection import train_test_split\n",
    "from mpl_toolkits.mplot3d import Axes3D\n",
    "import matplotlib.pyplot as plt\n",
    "\n",
    "from matplotlib.colors import ListedColormap\n",
    "cm_bright = ListedColormap(['#FF0000', '#0000FF'])\n",
    "%matplotlib inline"
   ]
  },
  {
   "cell_type": "code",
   "execution_count": 2,
   "metadata": {},
   "outputs": [],
   "source": [
    "def normalize(X):\n",
    "    n = X.shape[0]\n",
    "    mean = np.mean(X, axis=1).reshape((n, 1))\n",
    "    std = np.std(X, axis=1).reshape((n, 1))\n",
    "    X_new = (X - mean) / std**2\n",
    "    return X_new, mean, std"
   ]
  },
  {
   "cell_type": "code",
   "execution_count": 17,
   "metadata": {},
   "outputs": [],
   "source": [
    "def sigmoid(Z):\n",
    "    return 1 / (1 + np.exp(-Z))"
   ]
  },
  {
   "cell_type": "code",
   "execution_count": 3,
   "metadata": {},
   "outputs": [],
   "source": [
    "def plot_data(X, y):\n",
    "    ax = plt.gca()\n",
    "    ax.scatter(X[:,0], X[:,1], c=(y == 1), cmap=cm_bright)"
   ]
  },
  {
   "cell_type": "code",
   "execution_count": 4,
   "metadata": {},
   "outputs": [],
   "source": [
    "def fwd_pass(X, params):\n",
    "    W = params[\"W\"]\n",
    "    b = params[\"b\"]\n",
    "    \n",
    "    Z = np.dot(W, X) + b\n",
    "    A = sigmoid(Z)\n",
    "    \n",
    "    cache = (W, b, Z, A)\n",
    "    \n",
    "    return A, cache"
   ]
  },
  {
   "cell_type": "code",
   "execution_count": 5,
   "metadata": {},
   "outputs": [],
   "source": [
    "def cost(A, Y):\n",
    "    m = Y.shape[1]\n",
    "    \n",
    "    L = - Y * np.log(A) - (1 - Y) * np.log(1 - A)\n",
    "    J = np.sum(L) / m\n",
    "    \n",
    "    return J"
   ]
  },
  {
   "cell_type": "code",
   "execution_count": 6,
   "metadata": {},
   "outputs": [],
   "source": [
    "def bwd_pass(X, Y, cache):\n",
    "    n, m = X.shape\n",
    "    (W, b, Z, A) = cache\n",
    "    \n",
    "    dZ = A - Y\n",
    "    dW = 1. / m * np.dot(X, dZ.T).reshape((1, n))\n",
    "    db = 1. / m * np.sum(dZ)\n",
    "    \n",
    "    grads = {\"dW\" : dW, \"db\" : db, \"dZ\" : dZ}\n",
    "    return grads"
   ]
  },
  {
   "cell_type": "code",
   "execution_count": 7,
   "metadata": {},
   "outputs": [],
   "source": [
    "def init_params(n, m):\n",
    "    W = np.random.randn(1, n) * 0.01\n",
    "    b = 0\n",
    "    \n",
    "    params = {\"W\" : W, \"b\" : b}\n",
    "    return params"
   ]
  },
  {
   "cell_type": "code",
   "execution_count": 8,
   "metadata": {},
   "outputs": [],
   "source": [
    "def update_params(params, grads, learning_rate):\n",
    "    W = params[\"W\"]\n",
    "    b = params[\"b\"]\n",
    "    \n",
    "    dW = grads[\"dW\"]\n",
    "    db = grads[\"db\"]\n",
    "    \n",
    "    params[\"W\"] = W - learning_rate * dW\n",
    "    params[\"b\"] = b - learning_rate * db\n",
    "    \n",
    "    return params"
   ]
  },
  {
   "cell_type": "code",
   "execution_count": 40,
   "metadata": {},
   "outputs": [],
   "source": [
    "def fit(X, Y, learning_rate = 0.01, num_iter = 30000, debug = False):\n",
    "    n, m = X.shape \n",
    "    params = init_params(n, m)\n",
    "    costs = []\n",
    "    for i in range(num_iter):\n",
    "        A, cache = fwd_pass(X, params)\n",
    "        curr_cost = cost(A, Y)\n",
    "        grads = bwd_pass(X, Y, cache)\n",
    "        \n",
    "        params = update_params(params, grads, learning_rate)\n",
    "        \n",
    "        if debug and i % 10 == 0:\n",
    "            print(\"{}-th iteration: {}\".format(i, curr_cost))\n",
    "            costs.append(curr_cost)\n",
    "    \n",
    "    plt.plot(costs)\n",
    "    plt.ylabel(\"Cost\")\n",
    "    plt.xlabel(\"Iteration, *10\")\n",
    "    plt.show()\n",
    "    \n",
    "    return params    "
   ]
  },
  {
   "cell_type": "code",
   "execution_count": 10,
   "metadata": {},
   "outputs": [
    {
     "name": "stdout",
     "output_type": "stream",
     "text": [
      "Training set: X=(100, 2), y=(100,)\n"
     ]
    }
   ],
   "source": [
    "data_columns = [\"exam1\", \"exam2\"]\n",
    "target_column = \"submitted\"\n",
    "df = pd.read_csv(\"sats.csv\")\n",
    "X, Y = df[data_columns].values, df[target_column]\n",
    "print('Training set: X={}, y={}'.format(X.shape, Y.shape))"
   ]
  },
  {
   "cell_type": "code",
   "execution_count": 20,
   "metadata": {},
   "outputs": [
    {
     "name": "stdout",
     "output_type": "stream",
     "text": [
      "Training set: X=(118, 2), y=(118,)\n"
     ]
    }
   ],
   "source": [
    "data_columns = [\"test1\", \"test2\"]\n",
    "target_column = \"passed\"\n",
    "df = pd.read_csv(\"tests.csv\")\n",
    "X, Y = df[data_columns].values, df[target_column]\n",
    "print('Training set: X={}, y={}'.format(X.shape, Y.shape))"
   ]
  },
  {
   "cell_type": "code",
   "execution_count": 30,
   "metadata": {},
   "outputs": [
    {
     "name": "stdout",
     "output_type": "stream",
     "text": [
      "Training set: X=(118, 7), y=(118,)\n"
     ]
    }
   ],
   "source": [
    "data_columns = [\"test1\", \"test2\", \"test1test1\", \"test2test2\", \"test1test2\", \"test1test1test1\", \"test2test2test2\"]\n",
    "target_column = \"passed\"\n",
    "df = pd.read_csv(\"testsCom.csv\")\n",
    "X, Y = df[data_columns].values, df[target_column]\n",
    "print('Training set: X={}, y={}'.format(X.shape, Y.shape))"
   ]
  },
  {
   "cell_type": "code",
   "execution_count": 31,
   "metadata": {},
   "outputs": [
    {
     "data": {
      "image/png": "[encoded data removed]",
      "text/plain": [
       "<Figure size 432x288 with 1 Axes>"
      ]
     },
     "metadata": {
      "needs_background": "light"
     },
     "output_type": "display_data"
    }
   ],
   "source": [
    "plot_data(X, Y)"
   ]
  },
  {
   "cell_type": "code",
   "execution_count": 32,
   "metadata": {},
   "outputs": [],
   "source": [
    "Y = Y.values.reshape((df.shape[0], 1))"
   ]
  },
  {
   "cell_type": "code",
   "execution_count": 33,
   "metadata": {},
   "outputs": [],
   "source": [
    "X, Y = X.T, Y.T"
   ]
  },
  {
   "cell_type": "code",
   "execution_count": 34,
   "metadata": {},
   "outputs": [],
   "source": [
    "X, mean, std = normalize(X)"
   ]
  },
  {
   "cell_type": "code",
   "execution_count": 35,
   "metadata": {},
   "outputs": [
    {
     "data": {
      "text/plain": [
       "array([[-0.60317345, -0.01435925, -1.09777917, -1.75725074, -2.32251793],\n",
       "       [ 1.87362608,  1.92821021,  1.90091814,  1.19132449,  1.05486417],\n",
       "       [-3.90194657, -3.99946939, -3.29665705, -1.74627385,  0.25880084],\n",
       "       [ 2.0899842 ,  2.34213524,  2.21539406, -0.61258054, -1.05324385],\n",
       "       [-0.76431824,  1.23204463, -2.46000243, -3.2711155 , -4.28888063],\n",
       "       [-0.81067086, -0.79820379, -0.93050954, -1.50509379, -2.60774817],\n",
       "       [ 1.69714712,  1.89645037,  1.79574649, -0.1488716 , -0.39246017]])"
      ]
     },
     "execution_count": 35,
     "metadata": {},
     "output_type": "execute_result"
    }
   ],
   "source": [
    "X[:,:5]"
   ]
  },
  {
   "cell_type": "code",
   "execution_count": 36,
   "metadata": {},
   "outputs": [
    {
     "data": {
      "text/plain": [
       "(1, 118)"
      ]
     },
     "execution_count": 36,
     "metadata": {},
     "output_type": "execute_result"
    }
   ],
   "source": [
    "Y.shape"
   ]
  },
  {
   "cell_type": "code",
   "execution_count": 37,
   "metadata": {},
   "outputs": [
    {
     "data": {
      "text/plain": [
       "array([[ 0.05477891],\n",
       "       [ 0.18310156],\n",
       "       [ 0.24757534],\n",
       "       [ 0.30136961],\n",
       "       [-0.02547184],\n",
       "       [ 0.05983333],\n",
       "       [ 0.14235001]])"
      ]
     },
     "execution_count": 37,
     "metadata": {},
     "output_type": "execute_result"
    }
   ],
   "source": [
    "mean"
   ]
  },
  {
   "cell_type": "code",
   "execution_count": 38,
   "metadata": {},
   "outputs": [
    {
     "data": {
      "text/plain": [
       "array([[0.49454485],\n",
       "       [0.51753592],\n",
       "       [0.24747703],\n",
       "       [0.28332819],\n",
       "       [0.22312342],\n",
       "       [0.27347972],\n",
       "       [0.32474925]])"
      ]
     },
     "execution_count": 38,
     "metadata": {},
     "output_type": "execute_result"
    }
   ],
   "source": [
    "std"
   ]
  },
  {
   "cell_type": "code",
   "execution_count": 41,
   "metadata": {},
   "outputs": [
    {
     "name": "stdout",
     "output_type": "stream",
     "text": [
      "0-th iteration: 0.6878743093531294\n",
      "10-th iteration: 0.4778038385088005\n",
      "20-th iteration: 0.4323022828658092\n",
      "30-th iteration: 0.4089988565120487\n",
      "40-th iteration: 0.39498416702636224\n",
      "50-th iteration: 0.3856238790216564\n",
      "60-th iteration: 0.3789054404298144\n",
      "70-th iteration: 0.37383085523697385\n",
      "80-th iteration: 0.369852661102952\n",
      "90-th iteration: 0.36664611455799295\n",
      "100-th iteration: 0.364006230457609\n",
      "110-th iteration: 0.36179689383063185\n",
      "120-th iteration: 0.3599238320639249\n",
      "130-th iteration: 0.3583193895251944\n",
      "140-th iteration: 0.35693351944872537\n",
      "150-th iteration: 0.3557282275179205\n",
      "160-th iteration: 0.3546740188858763\n",
      "170-th iteration: 0.3537475533073513\n",
      "180-th iteration: 0.3529300534339287\n",
      "190-th iteration: 0.35220619664840086\n",
      "200-th iteration: 0.35156332560219516\n",
      "210-th iteration: 0.3509908738654472\n",
      "220-th iteration: 0.3504799399600105\n",
      "230-th iteration: 0.3500229658171837\n",
      "240-th iteration: 0.34961349010366666\n",
      "250-th iteration: 0.3492459561634569\n",
      "260-th iteration: 0.3489155604523854\n",
      "270-th iteration: 0.34861813145238957\n",
      "280-th iteration: 0.34835003185555646\n",
      "290-th iteration: 0.34810807874936717\n",
      "300-th iteration: 0.34788947789917185\n",
      "310-th iteration: 0.3476917691965759\n",
      "320-th iteration: 0.3475127810449682\n",
      "330-th iteration: 0.34735059196740337\n",
      "340-th iteration: 0.3472034981026545\n",
      "350-th iteration: 0.3470699855404382\n",
      "360-th iteration: 0.3469487066629042\n",
      "370-th iteration: 0.3468384598249609\n",
      "380-th iteration: 0.3467381718340742\n",
      "390-th iteration: 0.34664688279021283\n",
      "400-th iteration: 0.34656373292551135\n",
      "410-th iteration: 0.346487951145968\n",
      "420-th iteration: 0.346418845027817\n",
      "430-th iteration: 0.34635579206187134\n",
      "440-th iteration: 0.3462982319722263\n",
      "450-th iteration: 0.346245659962811\n",
      "460-th iteration: 0.3461976207676218\n",
      "470-th iteration: 0.3461537033989837\n",
      "480-th iteration: 0.3461135365036084\n",
      "490-th iteration: 0.34607678424913946\n",
      "500-th iteration: 0.3460431426747294\n",
      "510-th iteration: 0.3460123364483614\n",
      "520-th iteration: 0.3459841159814038\n",
      "530-th iteration: 0.34595825485749165\n",
      "540-th iteration: 0.345934547538468\n",
      "550-th iteration: 0.3459128073149469\n",
      "560-th iteration: 0.34589286447319995\n",
      "570-th iteration: 0.34587456465363314\n",
      "580-th iteration: 0.345857767379196\n",
      "590-th iteration: 0.34584234473472275\n",
      "600-th iteration: 0.3458281801805108\n",
      "610-th iteration: 0.3458151674854405\n",
      "620-th iteration: 0.34580320976667944\n",
      "630-th iteration: 0.34579221862453724\n",
      "640-th iteration: 0.34578211336235587\n",
      "650-th iteration: 0.34577282028248096\n",
      "660-th iteration: 0.34576427205037835\n",
      "670-th iteration: 0.3457564071198477\n",
      "680-th iteration: 0.34574916921306786\n",
      "690-th iteration: 0.34574250684990404\n",
      "700-th iteration: 0.3457363729215051\n",
      "710-th iteration: 0.3457307243037662\n",
      "720-th iteration: 0.3457255215066982\n",
      "730-th iteration: 0.3457207283561671\n",
      "740-th iteration: 0.3457163117048422\n",
      "750-th iteration: 0.34571224116951754\n",
      "760-th iteration: 0.3457084888922641\n",
      "770-th iteration: 0.34570502932313396\n",
      "780-th iteration: 0.3457018390223685\n",
      "790-th iteration: 0.3456988964802654\n",
      "800-th iteration: 0.3456961819530522\n",
      "810-th iteration: 0.34569367731327044\n",
      "820-th iteration: 0.3456913659133258\n",
      "830-th iteration: 0.3456892324609919\n",
      "840-th iteration: 0.34568726290577284\n",
      "850-th iteration: 0.34568544433513176\n",
      "860-th iteration: 0.3456837648796968\n",
      "870-th iteration: 0.34568221362662854\n",
      "880-th iteration: 0.3456807805404233\n",
      "890-th iteration: 0.3456794563904825\n",
      "900-th iteration: 0.3456782326848526\n",
      "910-th iteration: 0.3456771016095848\n",
      "920-th iteration: 0.34567605597322437\n",
      "930-th iteration: 0.34567508915597694\n",
      "940-th iteration: 0.34567419506314545\n",
      "950-th iteration: 0.34567336808246524\n",
      "960-th iteration: 0.34567260304500136\n",
      "970-th iteration: 0.3456718951892995\n",
      "980-th iteration: 0.3456712401285127\n",
      "990-th iteration: 0.3456706338202469\n",
      "1000-th iteration: 0.34567007253889703\n",
      "1010-th iteration: 0.3456695528502573\n",
      "1020-th iteration: 0.3456690715882184\n",
      "1030-th iteration: 0.34566862583337044\n",
      "1040-th iteration: 0.3456682128933546\n",
      "1050-th iteration: 0.3456678302848167\n",
      "1060-th iteration: 0.3456674757168254\n",
      "1070-th iteration: 0.345667147075638\n",
      "1080-th iteration: 0.3456668424106971\n",
      "1090-th iteration: 0.3456665599217591\n",
      "1100-th iteration: 0.345666297947059\n",
      "1110-th iteration: 0.34566605495242814\n",
      "1120-th iteration: 0.34566582952128383\n",
      "1130-th iteration: 0.3456656203454221\n",
      "1140-th iteration: 0.3456654262165445\n",
      "1150-th iteration: 0.3456652460184629\n",
      "1160-th iteration: 0.3456650787199243\n",
      "1170-th iteration: 0.34566492336800475\n",
      "1180-th iteration: 0.3456647790820293\n",
      "1190-th iteration: 0.34566464504797234\n",
      "1200-th iteration: 0.34566452051330077\n",
      "1210-th iteration: 0.34566440478222415\n",
      "1220-th iteration: 0.34566429721131964\n",
      "1230-th iteration: 0.3456641972055003\n",
      "1240-th iteration: 0.3456641042143005\n",
      "1250-th iteration: 0.3456640177284515\n",
      "1260-th iteration: 0.3456639372767272\n",
      "1270-th iteration: 0.3456638624230337\n",
      "1280-th iteration: 0.34566379276372866\n",
      "1290-th iteration: 0.3456637279251464\n",
      "1300-th iteration: 0.34566366756131867\n",
      "1310-th iteration: 0.34566361135186974\n",
      "1320-th iteration: 0.34566355900007634\n",
      "1330-th iteration: 0.3456635102310771\n",
      "1340-th iteration: 0.3456634647902204\n",
      "1350-th iteration: 0.34566342244153986\n",
      "1360-th iteration: 0.34566338296634735\n",
      "1370-th iteration: 0.3456633461619338\n",
      "1380-th iteration: 0.3456633118403701\n",
      "1390-th iteration: 0.3456632798274008\n",
      "1400-th iteration: 0.34566324996142045\n",
      "1410-th iteration: 0.3456632220925301\n",
      "1420-th iteration: 0.34566319608166535\n",
      "1430-th iteration: 0.3456631717997902\n",
      "1440-th iteration: 0.3456631491271532\n",
      "1450-th iteration: 0.34566312795259857\n",
      "1460-th iteration: 0.3456631081729324\n",
      "1470-th iteration: 0.3456630896923332\n",
      "1480-th iteration: 0.34566307242181016\n",
      "1490-th iteration: 0.34566305627870036\n",
      "1500-th iteration: 0.34566304118620494\n",
      "1510-th iteration: 0.3456630270729597\n",
      "1520-th iteration: 0.34566301387263737\n",
      "1530-th iteration: 0.34566300152358126\n",
      "1540-th iteration: 0.34566298996846523\n",
      "1550-th iteration: 0.3456629791539787\n",
      "1560-th iteration: 0.345662969030536\n",
      "1570-th iteration: 0.34566295955200765\n",
      "1580-th iteration: 0.34566295067547026\n",
      "1590-th iteration: 0.3456629423609757\n",
      "1600-th iteration: 0.34566293457133856\n",
      "1610-th iteration: 0.3456629272719369\n",
      "1620-th iteration: 0.3456629204305296\n",
      "1630-th iteration: 0.3456629140170864\n",
      "1640-th iteration: 0.34566290800363125\n",
      "1650-th iteration: 0.34566290236409525\n",
      "1660-th iteration: 0.3456628970741827\n",
      "1670-th iteration: 0.3456628921112452\n",
      "1680-th iteration: 0.3456628874541659\n",
      "1690-th iteration: 0.3456628830832519\n",
      "1700-th iteration: 0.34566287898013387\n",
      "1710-th iteration: 0.3456628751276746\n",
      "1720-th iteration: 0.34566287150988145\n",
      "1730-th iteration: 0.3456628681118283\n",
      "1740-th iteration: 0.3456628649195805\n",
      "1750-th iteration: 0.34566286192012674\n",
      "1760-th iteration: 0.345662859101315\n",
      "1770-th iteration: 0.3456628564517939\n",
      "1780-th iteration: 0.3456628539609573\n",
      "1790-th iteration: 0.34566285161889304\n",
      "1800-th iteration: 0.34566284941633624\n",
      "1810-th iteration: 0.3456628473446251\n",
      "1820-th iteration: 0.3456628453956591\n",
      "1830-th iteration: 0.3456628435618623\n",
      "1840-th iteration: 0.34566284183614704\n",
      "1850-th iteration: 0.3456628402118811\n",
      "1860-th iteration: 0.3456628386828577\n",
      "1870-th iteration: 0.3456628372432663\n",
      "1880-th iteration: 0.34566283588766705\n",
      "1890-th iteration: 0.34566283461096475\n",
      "1900-th iteration: 0.34566283340838777\n",
      "1910-th iteration: 0.34566283227546485\n",
      "1920-th iteration: 0.34566283120800684\n",
      "1930-th iteration: 0.34566283020208705\n",
      "1940-th iteration: 0.3456628292540246\n",
      "1950-th iteration: 0.34566282836036794\n",
      "1960-th iteration: 0.34566282751788086\n",
      "1970-th iteration: 0.34566282672352666\n",
      "1980-th iteration: 0.34566282597445747\n",
      "1990-th iteration: 0.3456628252680004\n"
     ]
    },
    {
     "data": {
      "image/png": "[encoded data removed]",
      "text/plain": [
       "<Figure size 432x288 with 1 Axes>"
      ]
     },
     "metadata": {
      "needs_background": "light"
     },
     "output_type": "display_data"
    }
   ],
   "source": [
    "params = fit(X, Y, learning_rate = 0.1, num_iter = 2000, debug = True)"
   ]
  },
  {
   "cell_type": "code",
   "execution_count": 19,
   "metadata": {},
   "outputs": [
    {
     "name": "stdout",
     "output_type": "stream",
     "text": [
      "{'W': array([[2.73154763, 2.54233606]]), 'b': 0.4090631397024712}\n"
     ]
    }
   ],
   "source": [
    "print(params)"
   ]
  },
  {
   "cell_type": "code",
   "execution_count": null,
   "metadata": {},
   "outputs": [],
   "source": []
  }
 ],
 "metadata": {
  "kernelspec": {
   "display_name": "Python 3.8 (Logistic Regression)",
   "language": "python",
   "name": "logistic_regression"
  },
  "language_info": {
   "codemirror_mode": {
    "name": "ipython",
    "version": 3
   },
   "file_extension": ".py",
   "mimetype": "text/x-python",
   "name": "python",
   "nbconvert_exporter": "python",
   "pygments_lexer": "ipython3",
   "version": "3.8.5"
  }
 },
 "nbformat": 4,
 "nbformat_minor": 1
}
